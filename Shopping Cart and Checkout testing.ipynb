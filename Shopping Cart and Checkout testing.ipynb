{
 "cells": [
  {
   "cell_type": "code",
   "execution_count": 33,
   "id": "ccbe8240",
   "metadata": {},
   "outputs": [],
   "source": [
    "from selenium.webdriver.common.keys import Keys"
   ]
  },
  {
   "cell_type": "code",
   "execution_count": 40,
   "id": "80018f99",
   "metadata": {},
   "outputs": [
    {
     "name": "stderr",
     "output_type": "stream",
     "text": [
      "<ipython-input-40-48976ddfeb63>:7: DeprecationWarning: executable_path has been deprecated, please pass in a Service object\n",
      "  driver = webdriver.Chrome('C:\\\\Users\\\\Onkar\\\\Desktop\\\\Se project\\\\chromedriver.exe')\n",
      "<ipython-input-40-48976ddfeb63>:14: DeprecationWarning: find_element_by_xpath is deprecated. Please use find_element(by=By.XPATH, value=xpath) instead\n",
      "  button = driver.find_element_by_xpath('//*[@id=\"__next\"]/main/div/div/div/button')\n",
      "<ipython-input-40-48976ddfeb63>:22: DeprecationWarning: find_element_by_class_name is deprecated. Please use find_element(by=By.CLASS_NAME, value=name) instead\n",
      "  button = driver.find_element_by_class_name('MuiButton-label')\n",
      "<ipython-input-40-48976ddfeb63>:27: DeprecationWarning: find_element_by_xpath is deprecated. Please use find_element(by=By.XPATH, value=xpath) instead\n",
      "  l=driver.find_element_by_xpath('//*[@id=\"__next\"]/header/div/nav/a')\n",
      "<ipython-input-40-48976ddfeb63>:33: DeprecationWarning: find_element_by_xpath is deprecated. Please use find_element(by=By.XPATH, value=xpath) instead\n",
      "  button = driver.find_element_by_xpath('//*[@id=\"__next\"]/main/div/div[2]/div/ul/li[2]/button')\n"
     ]
    }
   ],
   "source": [
    "import time\n",
    "# importing webdriver from selenium\n",
    "from selenium import webdriver\n",
    "\n",
    "driver = webdriver.Chrome('C:\\\\Users\\\\Onkar\\\\Desktop\\\\Se project\\\\chromedriver.exe')\n",
    "\n",
    "url = \"https://livewoodsstore.netlify.app\"\n",
    "\n",
    "# Opening the website\n",
    "driver.get(url)\n",
    "driver.implicitly_wait(10)\n",
    "button = driver.find_element_by_xpath('//*[@id=\"__next\"]/main/div/div/div/button')\n",
    "driver.execute_script(\"arguments[0].scrollIntoView();\", button)\n",
    "button.click()\n",
    "\n",
    "url = \"https://livewoodsstore.netlify.app/products/L7F0Qx\"\n",
    "driver.get(url)\n",
    "driver.implicitly_wait(10)\n",
    "time.sleep(5)\n",
    "button = driver.find_element_by_class_name('MuiButton-label')\n",
    "driver.execute_script(\"arguments[0].scrollIntoView();\", button)\n",
    "# clicking on the button\n",
    "button.click()\n",
    "\n",
    "l=driver.find_element_by_xpath('//*[@id=\"__next\"]/header/div/nav/a')\n",
    "driver.implicitly_wait(10)\n",
    "time.sleep(5)\n",
    "l.click()\n",
    "\n",
    "time.sleep(5)\n",
    "button = driver.find_element_by_xpath('//*[@id=\"__next\"]/main/div/div[2]/div/ul/li[2]/button')\n",
    "driver.execute_script(\"arguments[0].scrollIntoView();\", button)\n",
    "# clicking on the button\n",
    "button.click()\n"
   ]
  },
  {
   "cell_type": "code",
   "execution_count": 41,
   "id": "852c9d81",
   "metadata": {
    "scrolled": true
   },
   "outputs": [
    {
     "name": "stderr",
     "output_type": "stream",
     "text": [
      "<ipython-input-41-be6798f685cd>:20: DeprecationWarning: find_element_by_xpath is deprecated. Please use find_element(by=By.XPATH, value=xpath) instead\n",
      "  inputElement = driver.find_element_by_xpath('//*[@id=\"firstName\"]')\n",
      "<ipython-input-41-be6798f685cd>:25: DeprecationWarning: find_element_by_xpath is deprecated. Please use find_element(by=By.XPATH, value=xpath) instead\n",
      "  inputElement = driver.find_element_by_xpath('//*[@id=\"lastName\"]')\n",
      "<ipython-input-41-be6798f685cd>:32: DeprecationWarning: find_element_by_xpath is deprecated. Please use find_element(by=By.XPATH, value=xpath) instead\n",
      "  inputElement = driver.find_element_by_xpath('//*[@id=\"email\"]')\n",
      "<ipython-input-41-be6798f685cd>:46: DeprecationWarning: find_element_by_xpath is deprecated. Please use find_element(by=By.XPATH, value=xpath) instead\n",
      "  button = driver.find_element_by_xpath('//*[@id=\"__next\"]/main/div/div[1]/div/form/div[2]/div/div[4]/button[2]')\n"
     ]
    }
   ],
   "source": [
    "time.sleep(5)\n",
    "first_name = ['Jacob']\n",
    "last_name = ['Singh']\n",
    "email = ['jacob.singh@gmail.com']\n",
    "\n",
    "test_names = ['12123123123' , 'asdklnadsidjnaskdjnas' , '3424324!@#$%^&*']\n",
    "test_address = ['@#$%^&UHGDSE$%^YUIOKJNBVCFRT^&UIKMNBVCXDER%^YU' , 'asjdbasjdb12wjne weeh32e3e32e32e23knd 2ejd ' , 'IJNBJNASKJBNASKJNAS121212212']\n",
    "\n",
    "# URL of website\n",
    "# url = \"https://livewoodsstore.netlify.app/checkout\"\n",
    "\n",
    "# # Opening the website\n",
    "# driver.get(url)\n",
    "\n",
    "# inputElement = driver.find_element_by_name(\"name\")\n",
    "# inputElement.send_keys('1')\n",
    "# inputElement.send_keys(Keys.ENTER)\n",
    "# inputElement.submit() \n",
    "\n",
    "inputElement = driver.find_element_by_xpath('//*[@id=\"firstName\"]')\n",
    "# driver.execute_script(\"arguments[0].scrollIntoView();\", inputElement)\n",
    "inputElement.send_keys(first_name[0])\n",
    "driver.implicitly_wait(10)\n",
    "\n",
    "inputElement = driver.find_element_by_xpath('//*[@id=\"lastName\"]')\n",
    "inputElement.send_keys(last_name[0])\n",
    "inputElement.send_keys(Keys.ENTER)\n",
    "driver.implicitly_wait(10)\n",
    "\n",
    "\n",
    "\n",
    "inputElement = driver.find_element_by_xpath('//*[@id=\"email\"]')\n",
    "inputElement.send_keys(email[0])\n",
    "inputElement.send_keys(Keys.ENTER)\n",
    "driver.implicitly_wait(10)\n",
    "\n",
    "\n",
    "# # inputElement.send_keys(Keys.ENTER)\n",
    "# inputElement.submit() \n",
    "\n",
    "\n",
    "# inputElement.send_keys(Keys.ENTER)\n",
    "# inputElement.submit() \n",
    "\n",
    "# getting the button by class name\n",
    "button = driver.find_element_by_xpath('//*[@id=\"__next\"]/main/div/div[1]/div/form/div[2]/div/div[4]/button[2]')\n",
    "driver.execute_script(\"arguments[0].scrollIntoView();\", button)\n",
    "# clicking on the button\n",
    "button.click()\n",
    "\n"
   ]
  },
  {
   "cell_type": "code",
   "execution_count": 42,
   "id": "6a8c6478",
   "metadata": {},
   "outputs": [
    {
     "name": "stderr",
     "output_type": "stream",
     "text": [
      "<ipython-input-42-d2d8d7da1324>:2: DeprecationWarning: find_element_by_xpath is deprecated. Please use find_element(by=By.XPATH, value=xpath) instead\n",
      "  button = driver.find_element_by_xpath('//*[@id=\"__next\"]/main/div/div[1]/div/form/div[2]/div/div[8]/button[2]')\n"
     ]
    }
   ],
   "source": [
    "time.sleep(3)\n",
    "button = driver.find_element_by_xpath('//*[@id=\"__next\"]/main/div/div[1]/div/form/div[2]/div/div[8]/button[2]')\n",
    "driver.execute_script(\"arguments[0].scrollIntoView();\", button)\n",
    "# clicking on the button\n",
    "button.click()\n"
   ]
  },
  {
   "cell_type": "code",
   "execution_count": 43,
   "id": "84a0f673",
   "metadata": {},
   "outputs": [
    {
     "name": "stderr",
     "output_type": "stream",
     "text": [
      "<ipython-input-43-a474ca301c53>:2: DeprecationWarning: find_element_by_xpath is deprecated. Please use find_element(by=By.XPATH, value=xpath) instead\n",
      "  button = driver.find_element_by_xpath('//*[@id=\"__next\"]/main/div/div[1]/div/form/div[2]/div/div[6]/button[2]')\n"
     ]
    }
   ],
   "source": [
    "time.sleep(3)\n",
    "button = driver.find_element_by_xpath('//*[@id=\"__next\"]/main/div/div[1]/div/form/div[2]/div/div[6]/button[2]')\n",
    "driver.execute_script(\"arguments[0].scrollIntoView();\", button)\n",
    "# clicking on the button\n",
    "button.click()\n"
   ]
  },
  {
   "cell_type": "code",
   "execution_count": null,
   "id": "9d6fba98",
   "metadata": {},
   "outputs": [],
   "source": []
  }
 ],
 "metadata": {
  "kernelspec": {
   "display_name": "Python 3",
   "language": "python",
   "name": "python3"
  },
  "language_info": {
   "codemirror_mode": {
    "name": "ipython",
    "version": 3
   },
   "file_extension": ".py",
   "mimetype": "text/x-python",
   "name": "python",
   "nbconvert_exporter": "python",
   "pygments_lexer": "ipython3",
   "version": "3.8.8"
  }
 },
 "nbformat": 4,
 "nbformat_minor": 5
}
