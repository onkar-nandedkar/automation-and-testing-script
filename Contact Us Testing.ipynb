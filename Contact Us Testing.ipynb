{
 "cells": [
  {
   "cell_type": "code",
   "execution_count": 4,
   "id": "fa53def0",
   "metadata": {},
   "outputs": [],
   "source": [
    "from selenium.webdriver.common.keys import Keys"
   ]
  },
  {
   "cell_type": "code",
   "execution_count": 5,
   "id": "37e746fc",
   "metadata": {},
   "outputs": [
    {
     "name": "stderr",
     "output_type": "stream",
     "text": [
      "<ipython-input-5-d8dc182920ff>:7: DeprecationWarning: executable_path has been deprecated, please pass in a Service object\n",
      "  driver = webdriver.Chrome('C:\\\\Users\\\\Onkar\\\\Desktop\\\\Se project\\\\chromedriver.exe')\n",
      "<ipython-input-5-d8dc182920ff>:25: DeprecationWarning: find_element_by_xpath is deprecated. Please use find_element(by=By.XPATH, value=xpath) instead\n",
      "  inputElement = driver.find_element_by_xpath('//*[@id=\"contact\"]/div/div/div[1]/form/div[1]/input[2]')\n",
      "<ipython-input-5-d8dc182920ff>:30: DeprecationWarning: find_element_by_name is deprecated. Please use find_element(by=By.NAME, value=name) instead\n",
      "  inputElement = driver.find_element_by_name(\"name\")\n",
      "<ipython-input-5-d8dc182920ff>:37: DeprecationWarning: find_element_by_xpath is deprecated. Please use find_element(by=By.XPATH, value=xpath) instead\n",
      "  inputElement = driver.find_element_by_xpath('//*[@id=\"contact\"]/div/div/div[1]/form/div[2]/textarea')\n",
      "<ipython-input-5-d8dc182920ff>:51: DeprecationWarning: find_element_by_xpath is deprecated. Please use find_element(by=By.XPATH, value=xpath) instead\n",
      "  button = driver.find_element_by_xpath('//*[@id=\"contact\"]/div/div/div[1]/form/button')\n"
     ]
    }
   ],
   "source": [
    "import time\n",
    "# importing webdriver from selenium\n",
    "from selenium import webdriver\n",
    "\n",
    "\n",
    "# Here Chrome  will be used\n",
    "driver = webdriver.Chrome('C:\\\\Users\\\\Onkar\\\\Desktop\\\\Se project\\\\chromedriver.exe')\n",
    "\n",
    "test_emails = ['chhipa.1@iitj.ac.in' , 'nandedkar.1@iitj.ac.in' , 'aaljsdnas.1@yahoo.com']\n",
    "test_names = ['12123123123' , 'asdklnadsidjnaskdjnas' , '3424324!@#$%^&*']\n",
    "test_address = ['@#$%^&UHGDSE$%^YUIOKJNBVCFRT^&UIKMNBVCXDER%^YU' , 'asjdbasjdb12wjne weeh32e3e32e32e23knd 2ejd ' , 'IJNBJNASKJBNASKJNAS121212212']\n",
    "\n",
    "for i in range(3):\n",
    "    # URL of website\n",
    "    url = \"https://livewoods.netlify.app/contact.html\"\n",
    "\n",
    "    # Opening the website\n",
    "    driver.get(url)\n",
    "\n",
    "    # inputElement = driver.find_element_by_name(\"name\")\n",
    "    # inputElement.send_keys('1')\n",
    "    # inputElement.send_keys(Keys.ENTER)\n",
    "    # inputElement.submit() \n",
    "\n",
    "    inputElement = driver.find_element_by_xpath('//*[@id=\"contact\"]/div/div/div[1]/form/div[1]/input[2]')\n",
    "    driver.execute_script(\"arguments[0].scrollIntoView();\", inputElement)\n",
    "    inputElement.send_keys(test_emails[i])\n",
    "    driver.implicitly_wait(10)\n",
    "\n",
    "    inputElement = driver.find_element_by_name(\"name\")\n",
    "    inputElement.send_keys(test_names[i])\n",
    "    inputElement.send_keys(Keys.ENTER)\n",
    "    driver.implicitly_wait(10)\n",
    "\n",
    "\n",
    "\n",
    "    inputElement = driver.find_element_by_xpath('//*[@id=\"contact\"]/div/div/div[1]/form/div[2]/textarea')\n",
    "    inputElement.send_keys(test_address[i])\n",
    "    inputElement.send_keys(Keys.ENTER)\n",
    "    driver.implicitly_wait(10)\n",
    "\n",
    "\n",
    "    # # inputElement.send_keys(Keys.ENTER)\n",
    "    # inputElement.submit() \n",
    "\n",
    "\n",
    "    # inputElement.send_keys(Keys.ENTER)\n",
    "    # inputElement.submit() \n",
    "\n",
    "    # getting the button by class name\n",
    "    button = driver.find_element_by_xpath('//*[@id=\"contact\"]/div/div/div[1]/form/button')\n",
    "    driver.execute_script(\"arguments[0].scrollIntoView();\", button)\n",
    "    # clicking on the button\n",
    "    button.submit()"
   ]
  },
  {
   "cell_type": "code",
   "execution_count": 2,
   "id": "509c225d",
   "metadata": {},
   "outputs": [
    {
     "name": "stdout",
     "output_type": "stream",
     "text": [
      "For test case 1:\n",
      "All Inputs valid\n"
     ]
    }
   ],
   "source": [
    "print(\"For test case 1:\")\n",
    "print(\"All Inputs valid\")\n",
    "print(\"For test case 2:\")\n",
    "print(\"The \")"
   ]
  },
  {
   "cell_type": "code",
   "execution_count": null,
   "id": "4ef6ec5c",
   "metadata": {},
   "outputs": [],
   "source": []
  }
 ],
 "metadata": {
  "kernelspec": {
   "display_name": "Python 3",
   "language": "python",
   "name": "python3"
  },
  "language_info": {
   "codemirror_mode": {
    "name": "ipython",
    "version": 3
   },
   "file_extension": ".py",
   "mimetype": "text/x-python",
   "name": "python",
   "nbconvert_exporter": "python",
   "pygments_lexer": "ipython3",
   "version": "3.8.8"
  }
 },
 "nbformat": 4,
 "nbformat_minor": 5
}
